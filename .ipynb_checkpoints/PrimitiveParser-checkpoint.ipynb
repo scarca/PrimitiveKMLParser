{
 "cells": [
  {
   "cell_type": "markdown",
   "metadata": {},
   "source": [
    "# Primitive KML/Z Loader \n",
    "\n",
    "## General Info \n",
    "\n",
    "This is based off of `fastkml` \n",
    "\n",
    "## Motivation \n",
    "\n",
    "Existing libraries are pythonic -- they load for use in an object-oriented sense. Instead, I needed something that could load these into simple Numpy/Pandas objects and interact with the data in a rational form. Thus, I'm creating this, to hopefully be able to read through KML and eventually KMZ files and create a comprehensive representation of the data stored. It will, however, by necessity, lose some description statistics. \n",
    "\n",
    "## Goals \n",
    "\n",
    "### KML Parsing \n",
    "\n"
   ]
  },
  {
   "cell_type": "code",
   "execution_count": 44,
   "metadata": {
    "collapsed": true
   },
   "outputs": [],
   "source": [
    "from fastkml import kml\n",
    "import shapely \n",
    "import pandas as pd \n",
    "import numpy as np \n",
    "import lxml \n",
    "import json "
   ]
  },
  {
   "cell_type": "code",
   "execution_count": 92,
   "metadata": {
    "collapsed": true
   },
   "outputs": [],
   "source": [
    "def get_id_from_description(description_string, mark_config = \"OBJECTID\"): \n",
    "    string = description_string\n",
    "    string = ' '.join(string.replace(\"\\n\", \"\").split())\n",
    "    string = (string[string.find(\"<tr>\"):])\n",
    "    string = \"<root>\" + string + \"</root>\"\n",
    "    tree = lxml.etree.XML(string)\n",
    "    for row in tree.getchildren(): \n",
    "        f = row.getchildren()[0]\n",
    "        if f.text == mark_config: \n",
    "            return int(row.getchildren()[1].text)"
   ]
  },
  {
   "cell_type": "code",
   "execution_count": 93,
   "metadata": {
    "collapsed": true
   },
   "outputs": [],
   "source": [
    "def get_coords(kml_object, resolution=1, mark_config=\"OBJECT_ID\"): \n",
    "    features = list(kml_object.features()) \n",
    "    second_layer = list(features[0].features()) \n",
    "    frames = {} \n",
    "    for k in second_layer: \n",
    "        geom = shapely.geometry.mapping(k.geometry)\n",
    "        #now convert \n",
    "        arr = geom['coordinates']\n",
    "        paths = []\n",
    "        for path in arr:\n",
    "            nparr = np.array(path, dtype=float) \n",
    "            subpath = [] \n",
    "            for i in range(0, nparr.shape[0], resolution): \n",
    "                row = nparr[i, :].tolist() \n",
    "                subpath.append({\"lng\": row[0], \"lat\": row[1]})\n",
    "            paths.append(subpath) \n",
    "        geom['coordinates'] = paths \n",
    "        frames[get_id_from_description(k.description, mark_config)] = geom  \n",
    "    return frames "
   ]
  },
  {
   "cell_type": "code",
   "execution_count": 94,
   "metadata": {},
   "outputs": [],
   "source": [
    "with open(\"data/APD-Zones-070116.KML\", 'rt', encoding=\"utf-8\") as myfile: \n",
    "    doc = myfile.read() \n",
    "\n",
    "f = kml.KML() \n",
    "f.from_string(doc) \n",
    "\n",
    "frames = get_coords(f, resolution=1, mark_config=\"Zone\") "
   ]
  },
  {
   "cell_type": "code",
   "execution_count": 95,
   "metadata": {},
   "outputs": [],
   "source": [
    "#write to file \n",
    "with open(\"shapes.json\", \"w\") as f:\n",
    "    s = json.dumps(frames)\n",
    "    s = \"var shapes = \" + s; \n",
    "    f.write(s)"
   ]
  },
  {
   "cell_type": "code",
   "execution_count": 85,
   "metadata": {},
   "outputs": [],
   "source": [
    "f = kml.KML() \n",
    "f.from_string(doc) "
   ]
  },
  {
   "cell_type": "code",
   "execution_count": 91,
   "metadata": {},
   "outputs": [
    {
     "data": {
      "text/plain": [
       "[<fastkml.kml.Placemark at 0x1178fb160>,\n",
       " <fastkml.kml.Placemark at 0x1179635c0>,\n",
       " <fastkml.kml.Placemark at 0x1179630b8>,\n",
       " <fastkml.kml.Placemark at 0x117963240>,\n",
       " <fastkml.kml.Placemark at 0x117963860>,\n",
       " <fastkml.kml.Placemark at 0x117921ef0>,\n",
       " <fastkml.kml.Placemark at 0x1179216a0>]"
      ]
     },
     "execution_count": 91,
     "metadata": {},
     "output_type": "execute_result"
    }
   ],
   "source": [
    "list(list(f.features())[0].features())"
   ]
  },
  {
   "cell_type": "code",
   "execution_count": null,
   "metadata": {
    "collapsed": true
   },
   "outputs": [],
   "source": []
  }
 ],
 "metadata": {
  "kernelspec": {
   "display_name": "Python [conda env:data]",
   "language": "python",
   "name": "conda-env-data-py"
  },
  "language_info": {
   "codemirror_mode": {
    "name": "ipython",
    "version": 3
   },
   "file_extension": ".py",
   "mimetype": "text/x-python",
   "name": "python",
   "nbconvert_exporter": "python",
   "pygments_lexer": "ipython3",
   "version": "3.6.3"
  }
 },
 "nbformat": 4,
 "nbformat_minor": 2
}
